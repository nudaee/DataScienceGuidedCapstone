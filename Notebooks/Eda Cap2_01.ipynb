{
 "cells": [
  {
   "cell_type": "markdown",
   "metadata": {},
   "source": [
    "I n this notebook.I will be doing data cleaning and EDA of the dataset"
   ]
  },
  {
   "cell_type": "code",
   "execution_count": 1,
   "metadata": {},
   "outputs": [],
   "source": [
    "import pandas as pd\n",
    "import matplotlib.pyplot as plt\n",
    "import seaborn as sns\n",
    "import os \n",
    "import numpy as np\n",
    "from openpyxl import Workbook"
   ]
  },
  {
   "cell_type": "markdown",
   "metadata": {},
   "source": [
    "I'll first load the data sets savedout from the data wrangling notebook.\n"
   ]
  },
  {
   "cell_type": "code",
   "execution_count": 2,
   "metadata": {},
   "outputs": [
    {
     "name": "stdout",
     "output_type": "stream",
     "text": [
      "c:\\Users\\Duane\\OneDrive\\Documents\\Springboard\\GithubRepositorys\\DataScienceGuidedCapstone2\\Capstone2\\Vaccines\n"
     ]
    }
   ],
   "source": [
    "base_dir = os.getcwd()\n",
    "print(base_dir)\n",
    "vaccines_df = pd.read_csv(base_dir + '/vaccines_df.csv')\n"
   ]
  },
  {
   "cell_type": "markdown",
   "metadata": {},
   "source": [
    " Here I'm comparing those who are below poverty that do and dont have health insurance."
   ]
  },
  {
   "cell_type": "code",
   "execution_count": null,
   "metadata": {},
   "outputs": [],
   "source": [
    "belowPovNoInsur_df = vaccines_df[(vaccines_df['income_poverty'] == 'Below Poverty') & (vaccines_df['health_insurance'] == 0)]\n",
    "belowPovInsur_df = vaccines_df[(vaccines_df['income_poverty'] == 'Below Poverty') & (vaccines_df['health_insurance'] == 1)]\n",
    "\n",
    "# Count the number of rows in each DataFrame\n",
    "belowPovNoInsur_count = len(belowPovNoInsur_df)\n",
    "belowPovInsur_count = len(belowPovInsur_df)\n",
    "\n",
    "# Labels and values for the bar chart\n",
    "labels = ['Below Poverty, No Insurance', 'Below Poverty, Insurance']\n",
    "values = [belowPovNoInsur_count, belowPovInsur_count]\n",
    "\n",
    "# Create a bar chart\n",
    "plt.bar(labels, values, color=['red', 'green'])\n",
    "plt.xlabel('Income Poverty and Health Insurance Status')\n",
    "plt.ylabel('Number of Individuals')\n",
    "plt.title('Comparison of Individuals Below Poverty with and without Health Insurance')\n",
    "plt.show()"
   ]
  },
  {
   "cell_type": "markdown",
   "metadata": {},
   "source": [
    "Here Ill looking to see how many people are and arent healthcare workers. I feel like ayone who is will automatically be getting both vaccinations regardless of there other responses."
   ]
  },
  {
   "cell_type": "code",
   "execution_count": null,
   "metadata": {},
   "outputs": [],
   "source": [
    "# Create a copy of the original DataFrame\n",
    "vaccines_df_copy = vaccines_df.copy()\n",
    "\n",
    "# Convert 'health_worker' column to string type in the copied DataFrame\n",
    "vaccines_df_copy['health_worker'] = vaccines_df_copy['health_worker'].astype(str)\n",
    "\n",
    "# Replace missing values in the 'health_worker' column with 'Unknown'\n",
    "vaccines_df_copy['health_worker'].fillna('Unknown', inplace=True)\n",
    "\n",
    "\n",
    "# Plotting (optional)\n",
    "sns.countplot(x='health_worker', data=vaccines_df_copy, palette='autumn_r')\n",
    "plt.xlabel('Health Worker')\n",
    "plt.ylabel('Count')\n",
    "plt.title('Count of People by Health Worker Status')\n",
    "plt.show()"
   ]
  },
  {
   "cell_type": "code",
   "execution_count": null,
   "metadata": {},
   "outputs": [],
   "source": [
    "sns.countplot(x='health_worker', data=vaccines_df, palette='autumn_r')\n",
    "plt.xlabel('Health Worker')\n",
    "plt.ylabel('Count')\n",
    "plt.title('Count of how many people are health workers')\n",
    "plt.show()"
   ]
  }
 ],
 "metadata": {
  "kernelspec": {
   "display_name": "Python 3",
   "language": "python",
   "name": "python3"
  },
  "language_info": {
   "codemirror_mode": {
    "name": "ipython",
    "version": 3
   },
   "file_extension": ".py",
   "mimetype": "text/x-python",
   "name": "python",
   "nbconvert_exporter": "python",
   "pygments_lexer": "ipython3",
   "version": "3.11.1"
  }
 },
 "nbformat": 4,
 "nbformat_minor": 2
}
