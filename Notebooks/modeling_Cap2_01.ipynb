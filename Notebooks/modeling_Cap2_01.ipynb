{
 "cells": [
  {
   "cell_type": "markdown",
   "metadata": {},
   "source": [
    "Table of Contents\n",
    "\n",
    "1. [Importing Libraries](#Importing-the-Data)\n",
    "2. [Loading the Data](#Loading-the-Data)\n",
    "3. [Creating the Model](#creating-the-logistic-regression-model)\n",
    "4. [Showing Metrics](#Showing-the-metrics)\n",
    "5. [Summary](#summary)"
   ]
  },
  {
   "cell_type": "markdown",
   "metadata": {},
   "source": [
    "## Importing Libraries"
   ]
  },
  {
   "cell_type": "code",
   "execution_count": 1,
   "metadata": {},
   "outputs": [],
   "source": [
    "import numpy as np\n",
    "import matplotlib.pyplot as plt\n",
    "import pandas as pd\n",
    "import seaborn as sns\n",
    "from sklearn.model_selection import train_test_split\n",
    "from sklearn.linear_model import LogisticRegression\n",
    "from sklearn.metrics import confusion_matrix, classification_report\n",
    "import pickle\n",
    "from sklearn.metrics import ConfusionMatrixDisplay\n"
   ]
  },
  {
   "cell_type": "markdown",
   "metadata": {},
   "source": [
    "## Loading the Data "
   ]
  },
  {
   "cell_type": "markdown",
   "metadata": {},
   "source": [
    "### Loading the Pickle files"
   ]
  },
  {
   "cell_type": "code",
   "execution_count": 2,
   "metadata": {},
   "outputs": [],
   "source": [
    "# Load pickled data from a file\n",
    "with open('x_train.pickle', 'rb') as file:\n",
    "    x_train = pickle.load(file)\n",
    "\n",
    "with open('x_test.pickle', 'rb') as file:\n",
    "    x_test = pickle.load(file)\n",
    "\n",
    "with open('y_train.pickle', 'rb') as file:\n",
    "    y_train = pickle.load(file)\n",
    "\n",
    "with open('y_test.pickle', 'rb') as file:\n",
    "    y_test = pickle.load(file)"
   ]
  },
  {
   "cell_type": "markdown",
   "metadata": {},
   "source": [
    "#### Just taking a look at part of the loaded data."
   ]
  },
  {
   "cell_type": "code",
   "execution_count": 3,
   "metadata": {},
   "outputs": [
    {
     "data": {
      "text/html": [
       "<div>\n",
       "<style scoped>\n",
       "    .dataframe tbody tr th:only-of-type {\n",
       "        vertical-align: middle;\n",
       "    }\n",
       "\n",
       "    .dataframe tbody tr th {\n",
       "        vertical-align: top;\n",
       "    }\n",
       "\n",
       "    .dataframe thead th {\n",
       "        text-align: right;\n",
       "    }\n",
       "</style>\n",
       "<table border=\"1\" class=\"dataframe\">\n",
       "  <thead>\n",
       "    <tr style=\"text-align: right;\">\n",
       "      <th></th>\n",
       "      <th>h1n1_concern_Not at all concerned</th>\n",
       "      <th>h1n1_concern_Not very concerned</th>\n",
       "      <th>h1n1_concern_Somewhat concerned</th>\n",
       "      <th>h1n1_concern_Unknown</th>\n",
       "      <th>h1n1_concern_Very concerned</th>\n",
       "      <th>h1n1_knowledge_A little knowledge</th>\n",
       "      <th>h1n1_knowledge_A lot of knowledge</th>\n",
       "      <th>h1n1_knowledge_No knowledge</th>\n",
       "      <th>h1n1_knowledge_Unknown</th>\n",
       "      <th>behavioral_antiviral_meds_Not on antiviral medications</th>\n",
       "      <th>...</th>\n",
       "      <th>employment_occupation_qxajmpny</th>\n",
       "      <th>employment_occupation_rcertsgn</th>\n",
       "      <th>employment_occupation_tfqavkke</th>\n",
       "      <th>employment_occupation_ukymxvdu</th>\n",
       "      <th>employment_occupation_uqqtjvyb</th>\n",
       "      <th>employment_occupation_vlluhbov</th>\n",
       "      <th>employment_occupation_xgwztkwe</th>\n",
       "      <th>employment_occupation_xqwwgdyp</th>\n",
       "      <th>employment_occupation_xtkaffoo</th>\n",
       "      <th>employment_occupation_xzmlyyjv</th>\n",
       "    </tr>\n",
       "  </thead>\n",
       "  <tbody>\n",
       "    <tr>\n",
       "      <th>19557</th>\n",
       "      <td>0</td>\n",
       "      <td>1</td>\n",
       "      <td>0</td>\n",
       "      <td>0</td>\n",
       "      <td>0</td>\n",
       "      <td>1</td>\n",
       "      <td>0</td>\n",
       "      <td>0</td>\n",
       "      <td>0</td>\n",
       "      <td>1</td>\n",
       "      <td>...</td>\n",
       "      <td>0</td>\n",
       "      <td>0</td>\n",
       "      <td>0</td>\n",
       "      <td>0</td>\n",
       "      <td>0</td>\n",
       "      <td>0</td>\n",
       "      <td>1</td>\n",
       "      <td>0</td>\n",
       "      <td>0</td>\n",
       "      <td>0</td>\n",
       "    </tr>\n",
       "  </tbody>\n",
       "</table>\n",
       "<p>1 rows × 183 columns</p>\n",
       "</div>"
      ],
      "text/plain": [
       "       h1n1_concern_Not at all concerned  h1n1_concern_Not very concerned  \\\n",
       "19557                                  0                                1   \n",
       "\n",
       "       h1n1_concern_Somewhat concerned  h1n1_concern_Unknown  \\\n",
       "19557                                0                     0   \n",
       "\n",
       "       h1n1_concern_Very concerned  h1n1_knowledge_A little knowledge  \\\n",
       "19557                            0                                  1   \n",
       "\n",
       "       h1n1_knowledge_A lot of knowledge  h1n1_knowledge_No knowledge  \\\n",
       "19557                                  0                            0   \n",
       "\n",
       "       h1n1_knowledge_Unknown  \\\n",
       "19557                       0   \n",
       "\n",
       "       behavioral_antiviral_meds_Not on antiviral medications  ...  \\\n",
       "19557                                                  1       ...   \n",
       "\n",
       "       employment_occupation_qxajmpny  employment_occupation_rcertsgn  \\\n",
       "19557                               0                               0   \n",
       "\n",
       "       employment_occupation_tfqavkke  employment_occupation_ukymxvdu  \\\n",
       "19557                               0                               0   \n",
       "\n",
       "       employment_occupation_uqqtjvyb  employment_occupation_vlluhbov  \\\n",
       "19557                               0                               0   \n",
       "\n",
       "       employment_occupation_xgwztkwe  employment_occupation_xqwwgdyp  \\\n",
       "19557                               1                               0   \n",
       "\n",
       "       employment_occupation_xtkaffoo  employment_occupation_xzmlyyjv  \n",
       "19557                               0                               0  \n",
       "\n",
       "[1 rows x 183 columns]"
      ]
     },
     "execution_count": 3,
     "metadata": {},
     "output_type": "execute_result"
    }
   ],
   "source": [
    "x_train.head(1)"
   ]
  },
  {
   "cell_type": "code",
   "execution_count": 4,
   "metadata": {},
   "outputs": [
    {
     "data": {
      "text/html": [
       "<div>\n",
       "<style scoped>\n",
       "    .dataframe tbody tr th:only-of-type {\n",
       "        vertical-align: middle;\n",
       "    }\n",
       "\n",
       "    .dataframe tbody tr th {\n",
       "        vertical-align: top;\n",
       "    }\n",
       "\n",
       "    .dataframe thead th {\n",
       "        text-align: right;\n",
       "    }\n",
       "</style>\n",
       "<table border=\"1\" class=\"dataframe\">\n",
       "  <thead>\n",
       "    <tr style=\"text-align: right;\">\n",
       "      <th></th>\n",
       "      <th>h1n1_concern_Not at all concerned</th>\n",
       "      <th>h1n1_concern_Not very concerned</th>\n",
       "      <th>h1n1_concern_Somewhat concerned</th>\n",
       "      <th>h1n1_concern_Unknown</th>\n",
       "      <th>h1n1_concern_Very concerned</th>\n",
       "      <th>h1n1_knowledge_A little knowledge</th>\n",
       "      <th>h1n1_knowledge_A lot of knowledge</th>\n",
       "      <th>h1n1_knowledge_No knowledge</th>\n",
       "      <th>h1n1_knowledge_Unknown</th>\n",
       "      <th>behavioral_antiviral_meds_Not on antiviral medications</th>\n",
       "      <th>...</th>\n",
       "      <th>employment_occupation_qxajmpny</th>\n",
       "      <th>employment_occupation_rcertsgn</th>\n",
       "      <th>employment_occupation_tfqavkke</th>\n",
       "      <th>employment_occupation_ukymxvdu</th>\n",
       "      <th>employment_occupation_uqqtjvyb</th>\n",
       "      <th>employment_occupation_vlluhbov</th>\n",
       "      <th>employment_occupation_xgwztkwe</th>\n",
       "      <th>employment_occupation_xqwwgdyp</th>\n",
       "      <th>employment_occupation_xtkaffoo</th>\n",
       "      <th>employment_occupation_xzmlyyjv</th>\n",
       "    </tr>\n",
       "  </thead>\n",
       "  <tbody>\n",
       "    <tr>\n",
       "      <th>2543</th>\n",
       "      <td>1</td>\n",
       "      <td>0</td>\n",
       "      <td>0</td>\n",
       "      <td>0</td>\n",
       "      <td>0</td>\n",
       "      <td>1</td>\n",
       "      <td>0</td>\n",
       "      <td>0</td>\n",
       "      <td>0</td>\n",
       "      <td>1</td>\n",
       "      <td>...</td>\n",
       "      <td>0</td>\n",
       "      <td>0</td>\n",
       "      <td>0</td>\n",
       "      <td>0</td>\n",
       "      <td>0</td>\n",
       "      <td>0</td>\n",
       "      <td>0</td>\n",
       "      <td>0</td>\n",
       "      <td>0</td>\n",
       "      <td>0</td>\n",
       "    </tr>\n",
       "  </tbody>\n",
       "</table>\n",
       "<p>1 rows × 183 columns</p>\n",
       "</div>"
      ],
      "text/plain": [
       "      h1n1_concern_Not at all concerned  h1n1_concern_Not very concerned  \\\n",
       "2543                                  1                                0   \n",
       "\n",
       "      h1n1_concern_Somewhat concerned  h1n1_concern_Unknown  \\\n",
       "2543                                0                     0   \n",
       "\n",
       "      h1n1_concern_Very concerned  h1n1_knowledge_A little knowledge  \\\n",
       "2543                            0                                  1   \n",
       "\n",
       "      h1n1_knowledge_A lot of knowledge  h1n1_knowledge_No knowledge  \\\n",
       "2543                                  0                            0   \n",
       "\n",
       "      h1n1_knowledge_Unknown  \\\n",
       "2543                       0   \n",
       "\n",
       "      behavioral_antiviral_meds_Not on antiviral medications  ...  \\\n",
       "2543                                                  1       ...   \n",
       "\n",
       "      employment_occupation_qxajmpny  employment_occupation_rcertsgn  \\\n",
       "2543                               0                               0   \n",
       "\n",
       "      employment_occupation_tfqavkke  employment_occupation_ukymxvdu  \\\n",
       "2543                               0                               0   \n",
       "\n",
       "      employment_occupation_uqqtjvyb  employment_occupation_vlluhbov  \\\n",
       "2543                               0                               0   \n",
       "\n",
       "      employment_occupation_xgwztkwe  employment_occupation_xqwwgdyp  \\\n",
       "2543                               0                               0   \n",
       "\n",
       "      employment_occupation_xtkaffoo  employment_occupation_xzmlyyjv  \n",
       "2543                               0                               0  \n",
       "\n",
       "[1 rows x 183 columns]"
      ]
     },
     "execution_count": 4,
     "metadata": {},
     "output_type": "execute_result"
    }
   ],
   "source": [
    "x_test.head(1)"
   ]
  },
  {
   "cell_type": "code",
   "execution_count": 5,
   "metadata": {},
   "outputs": [
    {
     "data": {
      "text/plain": [
       "19557    No Vaccines\n",
       "Name: vaccine_status, dtype: object"
      ]
     },
     "execution_count": 5,
     "metadata": {},
     "output_type": "execute_result"
    }
   ],
   "source": [
    "y_train.head(1)"
   ]
  },
  {
   "cell_type": "code",
   "execution_count": 6,
   "metadata": {},
   "outputs": [
    {
     "data": {
      "text/plain": [
       "19557    No Vaccines\n",
       "Name: vaccine_status, dtype: object"
      ]
     },
     "execution_count": 6,
     "metadata": {},
     "output_type": "execute_result"
    }
   ],
   "source": [
    "y_train.head(1)"
   ]
  },
  {
   "cell_type": "code",
   "execution_count": 26,
   "metadata": {},
   "outputs": [
    {
     "data": {
      "image/png": "[encoded data removed]",
      "text/plain": [
       "<Figure size 640x480 with 1 Axes>"
      ]
     },
     "metadata": {},
     "output_type": "display_data"
    }
   ],
   "source": [
    "#y_train.value_counts().plot(kind='bar')\n",
    "# Calculate the percentage of each class\n",
    "class_percentages = (y_train.value_counts() / len(y_train)) * 100\n",
    "\n",
    "# Create the bar plot\n",
    "ax = class_percentages.plot(kind='bar')\n",
    "\n",
    "# Add the percentage of each class on the graph\n",
    "for p in ax.patches:\n",
    "    ax.annotate('{:.1f}%'.format(p.get_height()), (p.get_x()+0.1, p.get_height()+1))\n"
   ]
  },
  {
   "cell_type": "markdown",
   "metadata": {},
   "source": [
    "### Creating the Logistic Regression Model"
   ]
  },
  {
   "cell_type": "code",
   "execution_count": 7,
   "metadata": {},
   "outputs": [],
   "source": [
    "logmodel = LogisticRegression()\n"
   ]
  },
  {
   "cell_type": "code",
   "execution_count": 8,
   "metadata": {},
   "outputs": [
    {
     "name": "stderr",
     "output_type": "stream",
     "text": [
      "c:\\Users\\Duane\\AppData\\Local\\Programs\\Python\\Python311\\Lib\\site-packages\\sklearn\\linear_model\\_logistic.py:460: ConvergenceWarning: lbfgs failed to converge (status=1):\n",
      "STOP: TOTAL NO. of ITERATIONS REACHED LIMIT.\n",
      "\n",
      "Increase the number of iterations (max_iter) or scale the data as shown in:\n",
      "    https://scikit-learn.org/stable/modules/preprocessing.html\n",
      "Please also refer to the documentation for alternative solver options:\n",
      "    https://scikit-learn.org/stable/modules/linear_model.html#logistic-regression\n",
      "  n_iter_i = _check_optimize_result(\n"
     ]
    },
    {
     "data": {
      "text/html": [
       "<style>#sk-container-id-1 {color: black;}#sk-container-id-1 pre{padding: 0;}#sk-container-id-1 div.sk-toggleable {background-color: white;}#sk-container-id-1 label.sk-toggleable__label {cursor: pointer;display: block;width: 100%;margin-bottom: 0;padding: 0.3em;box-sizing: border-box;text-align: center;}#sk-container-id-1 label.sk-toggleable__label-arrow:before {content: \"▸\";float: left;margin-right: 0.25em;color: #696969;}#sk-container-id-1 label.sk-toggleable__label-arrow:hover:before {color: black;}#sk-container-id-1 div.sk-estimator:hover label.sk-toggleable__label-arrow:before {color: black;}#sk-container-id-1 div.sk-toggleable__content {max-height: 0;max-width: 0;overflow: hidden;text-align: left;background-color: #f0f8ff;}#sk-container-id-1 div.sk-toggleable__content pre {margin: 0.2em;color: black;border-radius: 0.25em;background-color: #f0f8ff;}#sk-container-id-1 input.sk-toggleable__control:checked~div.sk-toggleable__content {max-height: 200px;max-width: 100%;overflow: auto;}#sk-container-id-1 input.sk-toggleable__control:checked~label.sk-toggleable__label-arrow:before {content: \"▾\";}#sk-container-id-1 div.sk-estimator input.sk-toggleable__control:checked~label.sk-toggleable__label {background-color: #d4ebff;}#sk-container-id-1 div.sk-label input.sk-toggleable__control:checked~label.sk-toggleable__label {background-color: #d4ebff;}#sk-container-id-1 input.sk-hidden--visually {border: 0;clip: rect(1px 1px 1px 1px);clip: rect(1px, 1px, 1px, 1px);height: 1px;margin: -1px;overflow: hidden;padding: 0;position: absolute;width: 1px;}#sk-container-id-1 div.sk-estimator {font-family: monospace;background-color: #f0f8ff;border: 1px dotted black;border-radius: 0.25em;box-sizing: border-box;margin-bottom: 0.5em;}#sk-container-id-1 div.sk-estimator:hover {background-color: #d4ebff;}#sk-container-id-1 div.sk-parallel-item::after {content: \"\";width: 100%;border-bottom: 1px solid gray;flex-grow: 1;}#sk-container-id-1 div.sk-label:hover label.sk-toggleable__label {background-color: #d4ebff;}#sk-container-id-1 div.sk-serial::before {content: \"\";position: absolute;border-left: 1px solid gray;box-sizing: border-box;top: 0;bottom: 0;left: 50%;z-index: 0;}#sk-container-id-1 div.sk-serial {display: flex;flex-direction: column;align-items: center;background-color: white;padding-right: 0.2em;padding-left: 0.2em;position: relative;}#sk-container-id-1 div.sk-item {position: relative;z-index: 1;}#sk-container-id-1 div.sk-parallel {display: flex;align-items: stretch;justify-content: center;background-color: white;position: relative;}#sk-container-id-1 div.sk-item::before, #sk-container-id-1 div.sk-parallel-item::before {content: \"\";position: absolute;border-left: 1px solid gray;box-sizing: border-box;top: 0;bottom: 0;left: 50%;z-index: -1;}#sk-container-id-1 div.sk-parallel-item {display: flex;flex-direction: column;z-index: 1;position: relative;background-color: white;}#sk-container-id-1 div.sk-parallel-item:first-child::after {align-self: flex-end;width: 50%;}#sk-container-id-1 div.sk-parallel-item:last-child::after {align-self: flex-start;width: 50%;}#sk-container-id-1 div.sk-parallel-item:only-child::after {width: 0;}#sk-container-id-1 div.sk-dashed-wrapped {border: 1px dashed gray;margin: 0 0.4em 0.5em 0.4em;box-sizing: border-box;padding-bottom: 0.4em;background-color: white;}#sk-container-id-1 div.sk-label label {font-family: monospace;font-weight: bold;display: inline-block;line-height: 1.2em;}#sk-container-id-1 div.sk-label-container {text-align: center;}#sk-container-id-1 div.sk-container {/* jupyter's `normalize.less` sets `[hidden] { display: none; }` but bootstrap.min.css set `[hidden] { display: none !important; }` so we also need the `!important` here to be able to override the default hidden behavior on the sphinx rendered scikit-learn.org. See: https://github.com/scikit-learn/scikit-learn/issues/21755 */display: inline-block !important;position: relative;}#sk-container-id-1 div.sk-text-repr-fallback {display: none;}</style><div id=\"sk-container-id-1\" class=\"sk-top-container\"><div class=\"sk-text-repr-fallback\"><pre>LogisticRegression()</pre><b>In a Jupyter environment, please rerun this cell to show the HTML representation or trust the notebook. <br />On GitHub, the HTML representation is unable to render, please try loading this page with nbviewer.org.</b></div><div class=\"sk-container\" hidden><div class=\"sk-item\"><div class=\"sk-estimator sk-toggleable\"><input class=\"sk-toggleable__control sk-hidden--visually\" id=\"sk-estimator-id-1\" type=\"checkbox\" checked><label for=\"sk-estimator-id-1\" class=\"sk-toggleable__label sk-toggleable__label-arrow\">LogisticRegression</label><div class=\"sk-toggleable__content\"><pre>LogisticRegression()</pre></div></div></div></div></div>"
      ],
      "text/plain": [
       "LogisticRegression()"
      ]
     },
     "execution_count": 8,
     "metadata": {},
     "output_type": "execute_result"
    }
   ],
   "source": [
    "logmodel.fit(x_train, y_train)\n"
   ]
  },
  {
   "cell_type": "code",
   "execution_count": 9,
   "metadata": {},
   "outputs": [],
   "source": [
    "predictions = logmodel.predict(x_test)"
   ]
  },
  {
   "cell_type": "code",
   "execution_count": 10,
   "metadata": {},
   "outputs": [
    {
     "name": "stdout",
     "output_type": "stream",
     "text": [
      "                       precision    recall  f1-score   support\n",
      "\n",
      "        Both Vaccines       0.64      0.59      0.61       940\n",
      "    H1N1 Vaccine Only       0.51      0.10      0.17       195\n",
      "          No Vaccines       0.74      0.84      0.78      2659\n",
      "Seasonal Vaccine Only       0.63      0.57      0.60      1548\n",
      "\n",
      "             accuracy                           0.69      5342\n",
      "            macro avg       0.63      0.53      0.54      5342\n",
      "         weighted avg       0.68      0.69      0.68      5342\n",
      "\n"
     ]
    }
   ],
   "source": [
    "print(classification_report(y_test, predictions))"
   ]
  },
  {
   "cell_type": "code",
   "execution_count": 11,
   "metadata": {},
   "outputs": [
    {
     "data": {
      "text/plain": [
       "<sklearn.metrics._plot.confusion_matrix.ConfusionMatrixDisplay at 0x18cb1194450>"
      ]
     },
     "execution_count": 11,
     "metadata": {},
     "output_type": "execute_result"
    },
    {
     "data": {
      "image/png": "[encoded data removed]",
      "text/plain": [
       "<Figure size 640x480 with 2 Axes>"
      ]
     },
     "metadata": {},
     "output_type": "display_data"
    }
   ],
   "source": [
    "\n",
    "\n",
    "# Assuming you have already calculated the confusion matrix\n",
    "cm = confusion_matrix(y_test, predictions)\n",
    "_, ax = plt.subplots()\n",
    "display_cm = ConfusionMatrixDisplay(confusion_matrix = cm, \n",
    "                                    display_labels = ['Both Vaccines','H1N1 Vaccine','No Vaccine', 'Seasonal Vaccine'],)\n",
    "ax.set_xticks([0, 1, 2, 3])\n",
    "ax.set_yticks([0, 1, 2, 3])\n",
    "ax.set_xticklabels(labels = ['Both','H1N1','None', 'Seas'], fontsize = 8)\n",
    "ax.set_yticklabels(labels = ['Both','H1N1','None', 'Seas'], fontsize = 8)\n",
    "display_cm.plot(ax = ax)"
   ]
  },
  {
   "cell_type": "code",
   "execution_count": 12,
   "metadata": {},
   "outputs": [
    {
     "data": {
      "text/plain": [
       "array([[ 558,    6,  196,  180],\n",
       "       [  51,   20,  102,   22],\n",
       "       [ 106,   10, 2234,  309],\n",
       "       [ 162,    3,  505,  878]], dtype=int64)"
      ]
     },
     "execution_count": 12,
     "metadata": {},
     "output_type": "execute_result"
    }
   ],
   "source": [
    "confusion_matrix(y_test, predictions)"
   ]
  },
  {
   "cell_type": "markdown",
   "metadata": {},
   "source": [
    "## Summary"
   ]
  },
  {
   "cell_type": "markdown",
   "metadata": {},
   "source": [
    "In this notebook I loaded the pickled data from the last notebook created a logistic regression model  I then ran it on the data, ran the a classification report and a confusion matrix to show the findings. The model over all isnt very accurate. Its over all accuracy is 69%. The model does a decent job at finding which respondents do not get any vaccince at around 78%. The model was almost identical at perdicting when a respondent was going to get either both vaccines, 61% or just the seasonal vaccince at 60%."
   ]
  }
 ],
 "metadata": {
  "kernelspec": {
   "display_name": "Python 3",
   "language": "python",
   "name": "python3"
  },
  "language_info": {
   "codemirror_mode": {
    "name": "ipython",
    "version": 3
   },
   "file_extension": ".py",
   "mimetype": "text/x-python",
   "name": "python",
   "nbconvert_exporter": "python",
   "pygments_lexer": "ipython3",
   "version": "3.11.1"
  }
 },
 "nbformat": 4,
 "nbformat_minor": 2
}
