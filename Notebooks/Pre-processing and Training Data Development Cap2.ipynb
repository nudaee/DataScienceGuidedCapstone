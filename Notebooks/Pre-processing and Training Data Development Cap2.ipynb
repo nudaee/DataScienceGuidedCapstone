{
 "cells": [
  {
   "cell_type": "markdown",
   "metadata": {},
   "source": [
    "# Table of Contents\n",
    "\n",
    "\n",
    "\n",
    "1. [Introduction](#1.0.-Introduction)\n",
    "\n",
    "2. [Importing Libraries](#2.0.-Importing-Libraries)\n",
    "\n",
    "3. [Loading Data](#3.0.-loading-data)\n",
    "\n",
    "4. [Transforming Data](#4.0.-Transforming-Data)\n",
    "\n",
    "5. [Splitting the Data](#5.0.-Splitting-the-Data)\n",
    "\n",
    "6. [Saving the Data](#6.0.-Saving-the-Data)\n",
    "\n",
    "7. [Summary](#7.0.-Summary)"
   ]
  },
  {
   "cell_type": "markdown",
   "metadata": {},
   "source": [
    "## 1.0. Introduction"
   ]
  },
  {
   "cell_type": "markdown",
   "metadata": {},
   "source": [
    "## 2.0. Importing Libraries"
   ]
  },
  {
   "cell_type": "markdown",
   "metadata": {},
   "source": [
    "Loading the Necassary Libraries"
   ]
  },
  {
   "cell_type": "code",
   "execution_count": 1,
   "metadata": {},
   "outputs": [],
   "source": [
    "import pandas as pd\n",
    "import numpy as np\n",
    "import matplotlib.pyplot as plt\n",
    "import seaborn as sns\n",
    "import os\n",
    "from sklearn.model_selection import train_test_split\n",
    "import pickle"
   ]
  },
  {
   "cell_type": "markdown",
   "metadata": {},
   "source": [
    "## 3.0. Loading Data"
   ]
  },
  {
   "cell_type": "code",
   "execution_count": 2,
   "metadata": {},
   "outputs": [],
   "source": [
    "\n",
    "# Load the data\n",
    "df = pd.read_csv('joined_data_train.csv')\n"
   ]
  },
  {
   "cell_type": "markdown",
   "metadata": {},
   "source": [
    "Checking my data before I start to transform it into a state that the machine model can work with."
   ]
  },
  {
   "cell_type": "code",
   "execution_count": 3,
   "metadata": {},
   "outputs": [
    {
     "data": {
      "text/html": [
       "<div>\n",
       "<style scoped>\n",
       "    .dataframe tbody tr th:only-of-type {\n",
       "        vertical-align: middle;\n",
       "    }\n",
       "\n",
       "    .dataframe tbody tr th {\n",
       "        vertical-align: top;\n",
       "    }\n",
       "\n",
       "    .dataframe thead th {\n",
       "        text-align: right;\n",
       "    }\n",
       "</style>\n",
       "<table border=\"1\" class=\"dataframe\">\n",
       "  <thead>\n",
       "    <tr style=\"text-align: right;\">\n",
       "      <th></th>\n",
       "      <th>respondent_id</th>\n",
       "      <th>h1n1_concern</th>\n",
       "      <th>h1n1_knowledge</th>\n",
       "      <th>behavioral_antiviral_meds</th>\n",
       "      <th>behavioral_avoidance</th>\n",
       "      <th>behavioral_face_mask</th>\n",
       "      <th>behavioral_wash_hands</th>\n",
       "      <th>behavioral_large_gatherings</th>\n",
       "      <th>behavioral_outside_home</th>\n",
       "      <th>behavioral_touch_face</th>\n",
       "      <th>...</th>\n",
       "      <th>employment_status</th>\n",
       "      <th>hhs_geo_region</th>\n",
       "      <th>census_msa</th>\n",
       "      <th>household_adults</th>\n",
       "      <th>household_children</th>\n",
       "      <th>employment_industry</th>\n",
       "      <th>employment_occupation</th>\n",
       "      <th>h1n1_vaccine</th>\n",
       "      <th>seasonal_vaccine</th>\n",
       "      <th>vaccine_status</th>\n",
       "    </tr>\n",
       "  </thead>\n",
       "  <tbody>\n",
       "    <tr>\n",
       "      <th>0</th>\n",
       "      <td>0</td>\n",
       "      <td>Not very concerned</td>\n",
       "      <td>No knowledge</td>\n",
       "      <td>Not on antiviral medications</td>\n",
       "      <td>Did not avoid</td>\n",
       "      <td>Did not wear mask</td>\n",
       "      <td>Did not wash hands</td>\n",
       "      <td>Did not avoid large gatherings</td>\n",
       "      <td>Left home</td>\n",
       "      <td>Touched face</td>\n",
       "      <td>...</td>\n",
       "      <td>Not in Labor Force</td>\n",
       "      <td>oxchjgsf</td>\n",
       "      <td>Non-MSA</td>\n",
       "      <td>0.0</td>\n",
       "      <td>0.0</td>\n",
       "      <td>Unknown</td>\n",
       "      <td>Unknown</td>\n",
       "      <td>Not received</td>\n",
       "      <td>Not received</td>\n",
       "      <td>No Vaccines</td>\n",
       "    </tr>\n",
       "    <tr>\n",
       "      <th>1</th>\n",
       "      <td>1</td>\n",
       "      <td>Very concerned</td>\n",
       "      <td>A lot of knowledge</td>\n",
       "      <td>Not on antiviral medications</td>\n",
       "      <td>Avoided</td>\n",
       "      <td>Did not wear mask</td>\n",
       "      <td>Washed hands</td>\n",
       "      <td>Did not avoid large gatherings</td>\n",
       "      <td>Left home</td>\n",
       "      <td>Touched face</td>\n",
       "      <td>...</td>\n",
       "      <td>Employed</td>\n",
       "      <td>bhuqouqj</td>\n",
       "      <td>MSA, Not Principle  City</td>\n",
       "      <td>0.0</td>\n",
       "      <td>0.0</td>\n",
       "      <td>pxcmvdjn</td>\n",
       "      <td>xgwztkwe</td>\n",
       "      <td>Not received</td>\n",
       "      <td>Received</td>\n",
       "      <td>Seasonal Vaccine Only</td>\n",
       "    </tr>\n",
       "  </tbody>\n",
       "</table>\n",
       "<p>2 rows × 39 columns</p>\n",
       "</div>"
      ],
      "text/plain": [
       "   respondent_id        h1n1_concern      h1n1_knowledge  \\\n",
       "0              0  Not very concerned        No knowledge   \n",
       "1              1      Very concerned  A lot of knowledge   \n",
       "\n",
       "      behavioral_antiviral_meds behavioral_avoidance behavioral_face_mask  \\\n",
       "0  Not on antiviral medications        Did not avoid    Did not wear mask   \n",
       "1  Not on antiviral medications              Avoided    Did not wear mask   \n",
       "\n",
       "  behavioral_wash_hands     behavioral_large_gatherings  \\\n",
       "0    Did not wash hands  Did not avoid large gatherings   \n",
       "1          Washed hands  Did not avoid large gatherings   \n",
       "\n",
       "  behavioral_outside_home behavioral_touch_face  ...   employment_status  \\\n",
       "0               Left home          Touched face  ...  Not in Labor Force   \n",
       "1               Left home          Touched face  ...            Employed   \n",
       "\n",
       "  hhs_geo_region                census_msa household_adults  \\\n",
       "0       oxchjgsf                   Non-MSA              0.0   \n",
       "1       bhuqouqj  MSA, Not Principle  City              0.0   \n",
       "\n",
       "  household_children employment_industry employment_occupation  h1n1_vaccine  \\\n",
       "0                0.0             Unknown               Unknown  Not received   \n",
       "1                0.0            pxcmvdjn              xgwztkwe  Not received   \n",
       "\n",
       "  seasonal_vaccine         vaccine_status  \n",
       "0     Not received            No Vaccines  \n",
       "1         Received  Seasonal Vaccine Only  \n",
       "\n",
       "[2 rows x 39 columns]"
      ]
     },
     "execution_count": 3,
     "metadata": {},
     "output_type": "execute_result"
    }
   ],
   "source": [
    "df.head(2)"
   ]
  },
  {
   "cell_type": "code",
   "execution_count": 4,
   "metadata": {},
   "outputs": [
    {
     "data": {
      "text/plain": [
       "<Axes: >"
      ]
     },
     "execution_count": 4,
     "metadata": {},
     "output_type": "execute_result"
    },
    {
     "data": {
      "image/png": "[encoded data removed]",
      "text/plain": [
       "<Figure size 640x480 with 1 Axes>"
      ]
     },
     "metadata": {},
     "output_type": "display_data"
    }
   ],
   "source": [
    "sns.heatmap(df.isnull(),yticklabels=False,cbar=False,cmap='viridis')"
   ]
  },
  {
   "cell_type": "markdown",
   "metadata": {},
   "source": [
    "## 4.0. Transforming data"
   ]
  },
  {
   "cell_type": "markdown",
   "metadata": {},
   "source": [
    "###     4.1.\n",
    "In order for a Logistic model to understand the data the categorical features must be transformed. Here I am creating the dummy features from the categorical features but I will exclude a few of the columns that dont need to have indicator features or are the target features."
   ]
  },
  {
   "cell_type": "code",
   "execution_count": 5,
   "metadata": {},
   "outputs": [],
   "source": [
    "# Exclude columns before converting into dummy variables\n",
    "columns_to_exclude = ['respondent_id','vaccine_status', 'h1n1_vaccine', 'seasonal_vaccine']\n",
    "split_df = pd.get_dummies(df.drop(columns_to_exclude, axis=1) ,dtype= int)\n"
   ]
  },
  {
   "cell_type": "code",
   "execution_count": 6,
   "metadata": {},
   "outputs": [
    {
     "data": {
      "text/html": [
       "<div>\n",
       "<style scoped>\n",
       "    .dataframe tbody tr th:only-of-type {\n",
       "        vertical-align: middle;\n",
       "    }\n",
       "\n",
       "    .dataframe tbody tr th {\n",
       "        vertical-align: top;\n",
       "    }\n",
       "\n",
       "    .dataframe thead th {\n",
       "        text-align: right;\n",
       "    }\n",
       "</style>\n",
       "<table border=\"1\" class=\"dataframe\">\n",
       "  <thead>\n",
       "    <tr style=\"text-align: right;\">\n",
       "      <th></th>\n",
       "      <th>h1n1_concern_Not at all concerned</th>\n",
       "      <th>h1n1_concern_Not very concerned</th>\n",
       "      <th>h1n1_concern_Somewhat concerned</th>\n",
       "      <th>h1n1_concern_Unknown</th>\n",
       "      <th>h1n1_concern_Very concerned</th>\n",
       "      <th>h1n1_knowledge_A little knowledge</th>\n",
       "      <th>h1n1_knowledge_A lot of knowledge</th>\n",
       "      <th>h1n1_knowledge_No knowledge</th>\n",
       "      <th>h1n1_knowledge_Unknown</th>\n",
       "      <th>behavioral_antiviral_meds_Not on antiviral medications</th>\n",
       "      <th>...</th>\n",
       "      <th>employment_occupation_qxajmpny</th>\n",
       "      <th>employment_occupation_rcertsgn</th>\n",
       "      <th>employment_occupation_tfqavkke</th>\n",
       "      <th>employment_occupation_ukymxvdu</th>\n",
       "      <th>employment_occupation_uqqtjvyb</th>\n",
       "      <th>employment_occupation_vlluhbov</th>\n",
       "      <th>employment_occupation_xgwztkwe</th>\n",
       "      <th>employment_occupation_xqwwgdyp</th>\n",
       "      <th>employment_occupation_xtkaffoo</th>\n",
       "      <th>employment_occupation_xzmlyyjv</th>\n",
       "    </tr>\n",
       "  </thead>\n",
       "  <tbody>\n",
       "    <tr>\n",
       "      <th>0</th>\n",
       "      <td>0</td>\n",
       "      <td>1</td>\n",
       "      <td>0</td>\n",
       "      <td>0</td>\n",
       "      <td>0</td>\n",
       "      <td>0</td>\n",
       "      <td>0</td>\n",
       "      <td>1</td>\n",
       "      <td>0</td>\n",
       "      <td>1</td>\n",
       "      <td>...</td>\n",
       "      <td>0</td>\n",
       "      <td>0</td>\n",
       "      <td>0</td>\n",
       "      <td>0</td>\n",
       "      <td>0</td>\n",
       "      <td>0</td>\n",
       "      <td>0</td>\n",
       "      <td>0</td>\n",
       "      <td>0</td>\n",
       "      <td>0</td>\n",
       "    </tr>\n",
       "    <tr>\n",
       "      <th>1</th>\n",
       "      <td>0</td>\n",
       "      <td>0</td>\n",
       "      <td>0</td>\n",
       "      <td>0</td>\n",
       "      <td>1</td>\n",
       "      <td>0</td>\n",
       "      <td>1</td>\n",
       "      <td>0</td>\n",
       "      <td>0</td>\n",
       "      <td>1</td>\n",
       "      <td>...</td>\n",
       "      <td>0</td>\n",
       "      <td>0</td>\n",
       "      <td>0</td>\n",
       "      <td>0</td>\n",
       "      <td>0</td>\n",
       "      <td>0</td>\n",
       "      <td>1</td>\n",
       "      <td>0</td>\n",
       "      <td>0</td>\n",
       "      <td>0</td>\n",
       "    </tr>\n",
       "  </tbody>\n",
       "</table>\n",
       "<p>2 rows × 183 columns</p>\n",
       "</div>"
      ],
      "text/plain": [
       "   h1n1_concern_Not at all concerned  h1n1_concern_Not very concerned  \\\n",
       "0                                  0                                1   \n",
       "1                                  0                                0   \n",
       "\n",
       "   h1n1_concern_Somewhat concerned  h1n1_concern_Unknown  \\\n",
       "0                                0                     0   \n",
       "1                                0                     0   \n",
       "\n",
       "   h1n1_concern_Very concerned  h1n1_knowledge_A little knowledge  \\\n",
       "0                            0                                  0   \n",
       "1                            1                                  0   \n",
       "\n",
       "   h1n1_knowledge_A lot of knowledge  h1n1_knowledge_No knowledge  \\\n",
       "0                                  0                            1   \n",
       "1                                  1                            0   \n",
       "\n",
       "   h1n1_knowledge_Unknown  \\\n",
       "0                       0   \n",
       "1                       0   \n",
       "\n",
       "   behavioral_antiviral_meds_Not on antiviral medications  ...  \\\n",
       "0                                                  1       ...   \n",
       "1                                                  1       ...   \n",
       "\n",
       "   employment_occupation_qxajmpny  employment_occupation_rcertsgn  \\\n",
       "0                               0                               0   \n",
       "1                               0                               0   \n",
       "\n",
       "   employment_occupation_tfqavkke  employment_occupation_ukymxvdu  \\\n",
       "0                               0                               0   \n",
       "1                               0                               0   \n",
       "\n",
       "   employment_occupation_uqqtjvyb  employment_occupation_vlluhbov  \\\n",
       "0                               0                               0   \n",
       "1                               0                               0   \n",
       "\n",
       "   employment_occupation_xgwztkwe  employment_occupation_xqwwgdyp  \\\n",
       "0                               0                               0   \n",
       "1                               1                               0   \n",
       "\n",
       "   employment_occupation_xtkaffoo  employment_occupation_xzmlyyjv  \n",
       "0                               0                               0  \n",
       "1                               0                               0  \n",
       "\n",
       "[2 rows x 183 columns]"
      ]
     },
     "execution_count": 6,
     "metadata": {},
     "output_type": "execute_result"
    }
   ],
   "source": [
    "split_df.head(2)"
   ]
  },
  {
   "cell_type": "code",
   "execution_count": 7,
   "metadata": {},
   "outputs": [],
   "source": [
    "split_df['vaccine_status'] = df['vaccine_status']"
   ]
  },
  {
   "cell_type": "code",
   "execution_count": 8,
   "metadata": {},
   "outputs": [
    {
     "data": {
      "text/plain": [
       "vaccine_status\n",
       "No Vaccines              13295\n",
       "Seasonal Vaccine Only     7738\n",
       "Both Vaccines             4697\n",
       "H1N1 Vaccine Only          977\n",
       "Name: count, dtype: int64"
      ]
     },
     "execution_count": 8,
     "metadata": {},
     "output_type": "execute_result"
    }
   ],
   "source": [
    "class_counts = split_df['vaccine_status'].value_counts()\n",
    "class_counts"
   ]
  },
  {
   "cell_type": "code",
   "execution_count": 9,
   "metadata": {},
   "outputs": [
    {
     "data": {
      "text/plain": [
       "0    49.780956\n",
       "1    28.973677\n",
       "2    17.587149\n",
       "3     3.658217\n",
       "dtype: float64"
      ]
     },
     "execution_count": 9,
     "metadata": {},
     "output_type": "execute_result"
    }
   ],
   "source": [
    "class_percentages = pd.Series([(x / split_df.shape[0]) * 100.00 for x in class_counts])\n",
    "class_percentages"
   ]
  },
  {
   "cell_type": "code",
   "execution_count": 10,
   "metadata": {},
   "outputs": [
    {
     "data": {
      "image/png": "[encoded data removed]",
      "text/plain": [
       "<Figure size 640x480 with 1 Axes>"
      ]
     },
     "metadata": {},
     "output_type": "display_data"
    }
   ],
   "source": [
    "fig, ax = plt.subplots()\n",
    "ax.bar(class_counts.index, class_counts.values)\n",
    "ax.set_xlabel('Vaccine Status')\n",
    "ax.set_ylabel('Count')\n",
    "ax.set_title('Vaccine Status Count')\n",
    "ax.set_xticks([0, 1,2,3])\n",
    "ax.set_xticklabels(['Not Vaccinated', 'Seasonal Vaccine Only', 'Both Vaccines', 'H1N1 Vaccine Only'], fontsize=8)\n",
    "plt.show()"
   ]
  },
  {
   "cell_type": "markdown",
   "metadata": {},
   "source": [
    "## 5.0. Splitting the Data"
   ]
  },
  {
   "cell_type": "markdown",
   "metadata": {},
   "source": [
    "### 5.1.\n",
    "Here I will split the dataframe into the training and testing sets. I have created separate sets for the h1n1 vaccine and the seasonal flu vaccine. If necessary I will go back and exclude one vaccine's data from the others but in my intial attempt I will leave it as one data set."
   ]
  },
  {
   "cell_type": "code",
   "execution_count": 11,
   "metadata": {},
   "outputs": [],
   "source": [
    "# this is the first splitting of my data. I split the data into 80% training and 20% testing. I will split it again in the next cell depending on the model results in my \n",
    "# next notebook.\n",
    "#X_train, X_test, y_train, y_test = train_test_split(split_df.drop('vaccine_status', axis=1), split_df['vaccine_status'], test_size=0.2, random_state=42)\n",
    "\n",
    "# this is the first splitting of my data. I split the data into 80% training and 20% testing. I will split it again in the next cell depending on the model results in my \n",
    "# next notebook.\n",
    "X_train, X_test, y_train, y_test = train_test_split(split_df.drop('vaccine_status', axis=1), split_df['vaccine_status'], test_size=0.2, random_state=42, stratify=split_df['vaccine_status'])\n",
    "\n"
   ]
  },
  {
   "cell_type": "markdown",
   "metadata": {},
   "source": [
    "## 6.0. Saving the Data"
   ]
  },
  {
   "cell_type": "code",
   "execution_count": 12,
   "metadata": {},
   "outputs": [],
   "source": [
    "# Save the Serialized data with pickle\n",
    "\n",
    "with open('x_train.pickle', 'wb') as file:\n",
    "    pickle.dump(X_train, file)\n",
    "with open('x_test.pickle', 'wb') as file:\n",
    "    pickle.dump(X_test, file)\n",
    "with open('y_train.pickle', 'wb') as file:\n",
    "    pickle.dump(y_train, file)\n",
    "with open('y_test.pickle', 'wb') as file:\n",
    "    pickle.dump(y_test, file)\n"
   ]
  },
  {
   "cell_type": "markdown",
   "metadata": {},
   "source": [
    "## 7.0. Summary \n",
    "To recap in this notebook I loaded the data from the EDA notebook, using dummy variables I changed the necessary categorical features. I then added back the columns that were not changed. Then I split the data into trainning and testing sets in an 80/20 split. I then saved serialized data with pickle to use in the modeling notebook.\n"
   ]
  }
 ],
 "metadata": {
  "kernelspec": {
   "display_name": "Python 3 (ipykernel)",
   "language": "python",
   "name": "python3"
  },
  "language_info": {
   "codemirror_mode": {
    "name": "ipython",
    "version": 3
   },
   "file_extension": ".py",
   "mimetype": "text/x-python",
   "name": "python",
   "nbconvert_exporter": "python",
   "pygments_lexer": "ipython3",
   "version": "3.11.1"
  }
 },
 "nbformat": 4,
 "nbformat_minor": 4
}
